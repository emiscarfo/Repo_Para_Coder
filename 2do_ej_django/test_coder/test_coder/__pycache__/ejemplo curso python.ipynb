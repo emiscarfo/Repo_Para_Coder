{
 "cells": [
  {
   "cell_type": "code",
   "execution_count": 6,
   "metadata": {},
   "outputs": [
    {
     "name": "stdout",
     "output_type": "stream",
     "text": [
      "0.6666666666666666\n",
      "None\n",
      "None\n",
      "None\n"
     ]
    }
   ],
   "source": [
    "# Caso 1: B = 0\n",
    "# Caso 2: A o B no sean de tipo numerico \n",
    "\n",
    "def dividir(a, b):\n",
    "\n",
    "     # Validamos caso 1\n",
    "     if b == 0:\n",
    "          return None\n",
    "     \n",
    "     # Validamos caso 2\n",
    "     if not ((type(a) == int or type(a) == float) and (type(b) == int or type(b) == float)):\n",
    "          return None\n",
    "\n",
    "     return a/b\n",
    "\n",
    "\n",
    "print( dividir(2,3) )\n",
    "print( dividir(1,0) )\n",
    "print( dividir(\"1\",2) )\n",
    "print( dividir(\"1\",[2]) )\n"
   ]
  }
 ],
 "metadata": {
  "kernelspec": {
   "display_name": "Python 3.10.6 64-bit",
   "language": "python",
   "name": "python3"
  },
  "language_info": {
   "codemirror_mode": {
    "name": "ipython",
    "version": 3
   },
   "file_extension": ".py",
   "mimetype": "text/x-python",
   "name": "python",
   "nbconvert_exporter": "python",
   "pygments_lexer": "ipython3",
   "version": "3.10.8"
  },
  "orig_nbformat": 4,
  "vscode": {
   "interpreter": {
    "hash": "315d97c9d0ed748a7cb61d38d2aba688fa37809ecf39af6ac341237e0d0e13c9"
   }
  }
 },
 "nbformat": 4,
 "nbformat_minor": 2
}
